{
  "nbformat": 4,
  "nbformat_minor": 0,
  "metadata": {
    "colab": {
      "name": "Farmer.ipynb",
      "provenance": [],
      "authorship_tag": "ABX9TyPzYn5uOP/fHjBWfNOvhhV7",
      "include_colab_link": true
    },
    "kernelspec": {
      "name": "python3",
      "display_name": "Python 3"
    },
    "accelerator": "GPU"
  },
  "cells": [
    {
      "cell_type": "markdown",
      "metadata": {
        "id": "view-in-github",
        "colab_type": "text"
      },
      "source": [
        "<a href=\"https://colab.research.google.com/github/Rajesh165/amazon-clone-app/blob/master/Farmer.ipynb\" target=\"_parent\"><img src=\"https://colab.research.google.com/assets/colab-badge.svg\" alt=\"Open In Colab\"/></a>"
      ]
    },
    {
      "cell_type": "code",
      "metadata": {
        "id": "OUvisDF6a4x1"
      },
      "source": [
        "import pandas as pd\r\n",
        "import numpy as np\r\n",
        "import matplotlib.pyplot as plt\r\n",
        "from sklearn.model_selection import train_test_split\r\n",
        "from sklearn import preprocessing"
      ],
      "execution_count": 1,
      "outputs": []
    },
    {
      "cell_type": "code",
      "metadata": {
        "id": "Gkzq9VpUbakr",
        "colab": {
          "base_uri": "https://localhost:8080/",
          "height": 195
        },
        "outputId": "02b9e2fe-0d5c-4f88-e953-c634ede6b3e6"
      },
      "source": [
        "df = pd.read_csv('/content/filename.csv')\r\n",
        "df.head()"
      ],
      "execution_count": 2,
      "outputs": [
        {
          "output_type": "execute_result",
          "data": {
            "text/html": [
              "<div>\n",
              "<style scoped>\n",
              "    .dataframe tbody tr th:only-of-type {\n",
              "        vertical-align: middle;\n",
              "    }\n",
              "\n",
              "    .dataframe tbody tr th {\n",
              "        vertical-align: top;\n",
              "    }\n",
              "\n",
              "    .dataframe thead th {\n",
              "        text-align: right;\n",
              "    }\n",
              "</style>\n",
              "<table border=\"1\" class=\"dataframe\">\n",
              "  <thead>\n",
              "    <tr style=\"text-align: right;\">\n",
              "      <th></th>\n",
              "      <th>Unnamed: 0</th>\n",
              "      <th>temp(cel)</th>\n",
              "      <th>mean_windspeed(km/hr)</th>\n",
              "      <th>re_hum(%)</th>\n",
              "      <th>cloud(okta)</th>\n",
              "      <th>rain(mm)</th>\n",
              "      <th>avg._no._rainyday</th>\n",
              "      <th>district</th>\n",
              "      <th>month_index</th>\n",
              "    </tr>\n",
              "  </thead>\n",
              "  <tbody>\n",
              "    <tr>\n",
              "      <th>0</th>\n",
              "      <td>0</td>\n",
              "      <td>12.571663</td>\n",
              "      <td>4.861222</td>\n",
              "      <td>77.267091</td>\n",
              "      <td>1.525148</td>\n",
              "      <td>14.375759</td>\n",
              "      <td>0.9</td>\n",
              "      <td>Bhagalpur</td>\n",
              "      <td>1</td>\n",
              "    </tr>\n",
              "    <tr>\n",
              "      <th>1</th>\n",
              "      <td>1</td>\n",
              "      <td>16.876908</td>\n",
              "      <td>4.658724</td>\n",
              "      <td>76.001416</td>\n",
              "      <td>1.749436</td>\n",
              "      <td>13.976031</td>\n",
              "      <td>0.9</td>\n",
              "      <td>Bhagalpur</td>\n",
              "      <td>1</td>\n",
              "    </tr>\n",
              "    <tr>\n",
              "      <th>2</th>\n",
              "      <td>2</td>\n",
              "      <td>15.775776</td>\n",
              "      <td>3.505728</td>\n",
              "      <td>79.321824</td>\n",
              "      <td>1.713624</td>\n",
              "      <td>12.331613</td>\n",
              "      <td>0.9</td>\n",
              "      <td>Bhagalpur</td>\n",
              "      <td>1</td>\n",
              "    </tr>\n",
              "    <tr>\n",
              "      <th>3</th>\n",
              "      <td>3</td>\n",
              "      <td>12.903226</td>\n",
              "      <td>3.196545</td>\n",
              "      <td>79.323649</td>\n",
              "      <td>1.591761</td>\n",
              "      <td>12.337610</td>\n",
              "      <td>0.9</td>\n",
              "      <td>Bhagalpur</td>\n",
              "      <td>1</td>\n",
              "    </tr>\n",
              "    <tr>\n",
              "      <th>4</th>\n",
              "      <td>4</td>\n",
              "      <td>16.829754</td>\n",
              "      <td>4.926399</td>\n",
              "      <td>78.572965</td>\n",
              "      <td>1.469696</td>\n",
              "      <td>12.780349</td>\n",
              "      <td>0.9</td>\n",
              "      <td>Bhagalpur</td>\n",
              "      <td>1</td>\n",
              "    </tr>\n",
              "  </tbody>\n",
              "</table>\n",
              "</div>"
            ],
            "text/plain": [
              "   Unnamed: 0  temp(cel)  ...   district  month_index\n",
              "0           0  12.571663  ...  Bhagalpur            1\n",
              "1           1  16.876908  ...  Bhagalpur            1\n",
              "2           2  15.775776  ...  Bhagalpur            1\n",
              "3           3  12.903226  ...  Bhagalpur            1\n",
              "4           4  16.829754  ...  Bhagalpur            1\n",
              "\n",
              "[5 rows x 9 columns]"
            ]
          },
          "metadata": {
            "tags": []
          },
          "execution_count": 2
        }
      ]
    },
    {
      "cell_type": "code",
      "metadata": {
        "id": "wCg7wcMsbj-v",
        "colab": {
          "base_uri": "https://localhost:8080/"
        },
        "outputId": "d8a62da2-8360-4406-e1dc-0405b9d56eaf"
      },
      "source": [
        "df['district'].unique()"
      ],
      "execution_count": 3,
      "outputs": [
        {
          "output_type": "execute_result",
          "data": {
            "text/plain": [
              "array(['Bhagalpur', 'chapra', 'Darbhanga', 'Dehri', 'Forbesganj', 'Gaya',\n",
              "       'jamui', 'Motihari', 'Muzaffarpur', 'patna', 'Purnea', 'Raxaul',\n",
              "       'Sabour', 'Supaul'], dtype=object)"
            ]
          },
          "metadata": {
            "tags": []
          },
          "execution_count": 3
        }
      ]
    },
    {
      "cell_type": "code",
      "metadata": {
        "id": "t4kJ_Vo4hS69",
        "colab": {
          "base_uri": "https://localhost:8080/",
          "height": 195
        },
        "outputId": "dec591d2-e220-42c6-ac1c-c33a81dfa453"
      },
      "source": [
        "df = df.sample(frac=1).reset_index(drop=True)\r\n",
        "df.head()"
      ],
      "execution_count": 4,
      "outputs": [
        {
          "output_type": "execute_result",
          "data": {
            "text/html": [
              "<div>\n",
              "<style scoped>\n",
              "    .dataframe tbody tr th:only-of-type {\n",
              "        vertical-align: middle;\n",
              "    }\n",
              "\n",
              "    .dataframe tbody tr th {\n",
              "        vertical-align: top;\n",
              "    }\n",
              "\n",
              "    .dataframe thead th {\n",
              "        text-align: right;\n",
              "    }\n",
              "</style>\n",
              "<table border=\"1\" class=\"dataframe\">\n",
              "  <thead>\n",
              "    <tr style=\"text-align: right;\">\n",
              "      <th></th>\n",
              "      <th>Unnamed: 0</th>\n",
              "      <th>temp(cel)</th>\n",
              "      <th>mean_windspeed(km/hr)</th>\n",
              "      <th>re_hum(%)</th>\n",
              "      <th>cloud(okta)</th>\n",
              "      <th>rain(mm)</th>\n",
              "      <th>avg._no._rainyday</th>\n",
              "      <th>district</th>\n",
              "      <th>month_index</th>\n",
              "    </tr>\n",
              "  </thead>\n",
              "  <tbody>\n",
              "    <tr>\n",
              "      <th>0</th>\n",
              "      <td>327</td>\n",
              "      <td>30.249077</td>\n",
              "      <td>5.992444</td>\n",
              "      <td>72.822539</td>\n",
              "      <td>3.616947</td>\n",
              "      <td>126.158771</td>\n",
              "      <td>5.7</td>\n",
              "      <td>Purnea</td>\n",
              "      <td>5</td>\n",
              "    </tr>\n",
              "    <tr>\n",
              "      <th>1</th>\n",
              "      <td>228</td>\n",
              "      <td>9.323347</td>\n",
              "      <td>3.513469</td>\n",
              "      <td>81.625563</td>\n",
              "      <td>0.970678</td>\n",
              "      <td>12.886044</td>\n",
              "      <td>1.4</td>\n",
              "      <td>Motihari</td>\n",
              "      <td>1</td>\n",
              "    </tr>\n",
              "    <tr>\n",
              "      <th>2</th>\n",
              "      <td>250</td>\n",
              "      <td>28.505738</td>\n",
              "      <td>5.568657</td>\n",
              "      <td>83.449760</td>\n",
              "      <td>6.120421</td>\n",
              "      <td>295.276991</td>\n",
              "      <td>11.5</td>\n",
              "      <td>Muzaffarpur</td>\n",
              "      <td>8</td>\n",
              "    </tr>\n",
              "    <tr>\n",
              "      <th>3</th>\n",
              "      <td>363</td>\n",
              "      <td>20.321127</td>\n",
              "      <td>3.822299</td>\n",
              "      <td>85.531411</td>\n",
              "      <td>2.185600</td>\n",
              "      <td>20.325791</td>\n",
              "      <td>1.3</td>\n",
              "      <td>Raxaul</td>\n",
              "      <td>1</td>\n",
              "    </tr>\n",
              "    <tr>\n",
              "      <th>4</th>\n",
              "      <td>276</td>\n",
              "      <td>30.835069</td>\n",
              "      <td>6.978292</td>\n",
              "      <td>70.730341</td>\n",
              "      <td>4.749230</td>\n",
              "      <td>115.798850</td>\n",
              "      <td>5.3</td>\n",
              "      <td>patna</td>\n",
              "      <td>6</td>\n",
              "    </tr>\n",
              "  </tbody>\n",
              "</table>\n",
              "</div>"
            ],
            "text/plain": [
              "   Unnamed: 0  temp(cel)  ...     district  month_index\n",
              "0         327  30.249077  ...       Purnea            5\n",
              "1         228   9.323347  ...     Motihari            1\n",
              "2         250  28.505738  ...  Muzaffarpur            8\n",
              "3         363  20.321127  ...       Raxaul            1\n",
              "4         276  30.835069  ...        patna            6\n",
              "\n",
              "[5 rows x 9 columns]"
            ]
          },
          "metadata": {
            "tags": []
          },
          "execution_count": 4
        }
      ]
    },
    {
      "cell_type": "code",
      "metadata": {
        "id": "CSmPUWEiiVmo"
      },
      "source": [
        "X=df[['temp(cel)','mean_windspeed(km/hr)','re_hum(%)','cloud(okta)','rain(mm)','avg._no._rainyday','month_index']]\r\n",
        "y =df['district']"
      ],
      "execution_count": 5,
      "outputs": []
    },
    {
      "cell_type": "code",
      "metadata": {
        "id": "8z1r_js6jNdj",
        "colab": {
          "base_uri": "https://localhost:8080/",
          "height": 402
        },
        "outputId": "08676af8-a9e2-4721-c10e-eae383d6193a"
      },
      "source": [
        "X"
      ],
      "execution_count": 6,
      "outputs": [
        {
          "output_type": "execute_result",
          "data": {
            "text/html": [
              "<div>\n",
              "<style scoped>\n",
              "    .dataframe tbody tr th:only-of-type {\n",
              "        vertical-align: middle;\n",
              "    }\n",
              "\n",
              "    .dataframe tbody tr th {\n",
              "        vertical-align: top;\n",
              "    }\n",
              "\n",
              "    .dataframe thead th {\n",
              "        text-align: right;\n",
              "    }\n",
              "</style>\n",
              "<table border=\"1\" class=\"dataframe\">\n",
              "  <thead>\n",
              "    <tr style=\"text-align: right;\">\n",
              "      <th></th>\n",
              "      <th>temp(cel)</th>\n",
              "      <th>mean_windspeed(km/hr)</th>\n",
              "      <th>re_hum(%)</th>\n",
              "      <th>cloud(okta)</th>\n",
              "      <th>rain(mm)</th>\n",
              "      <th>avg._no._rainyday</th>\n",
              "      <th>month_index</th>\n",
              "    </tr>\n",
              "  </thead>\n",
              "  <tbody>\n",
              "    <tr>\n",
              "      <th>0</th>\n",
              "      <td>30.249077</td>\n",
              "      <td>5.992444</td>\n",
              "      <td>72.822539</td>\n",
              "      <td>3.616947</td>\n",
              "      <td>126.158771</td>\n",
              "      <td>5.7</td>\n",
              "      <td>5</td>\n",
              "    </tr>\n",
              "    <tr>\n",
              "      <th>1</th>\n",
              "      <td>9.323347</td>\n",
              "      <td>3.513469</td>\n",
              "      <td>81.625563</td>\n",
              "      <td>0.970678</td>\n",
              "      <td>12.886044</td>\n",
              "      <td>1.4</td>\n",
              "      <td>1</td>\n",
              "    </tr>\n",
              "    <tr>\n",
              "      <th>2</th>\n",
              "      <td>28.505738</td>\n",
              "      <td>5.568657</td>\n",
              "      <td>83.449760</td>\n",
              "      <td>6.120421</td>\n",
              "      <td>295.276991</td>\n",
              "      <td>11.5</td>\n",
              "      <td>8</td>\n",
              "    </tr>\n",
              "    <tr>\n",
              "      <th>3</th>\n",
              "      <td>20.321127</td>\n",
              "      <td>3.822299</td>\n",
              "      <td>85.531411</td>\n",
              "      <td>2.185600</td>\n",
              "      <td>20.325791</td>\n",
              "      <td>1.3</td>\n",
              "      <td>1</td>\n",
              "    </tr>\n",
              "    <tr>\n",
              "      <th>4</th>\n",
              "      <td>30.835069</td>\n",
              "      <td>6.978292</td>\n",
              "      <td>70.730341</td>\n",
              "      <td>4.749230</td>\n",
              "      <td>115.798850</td>\n",
              "      <td>5.3</td>\n",
              "      <td>6</td>\n",
              "    </tr>\n",
              "    <tr>\n",
              "      <th>...</th>\n",
              "      <td>...</td>\n",
              "      <td>...</td>\n",
              "      <td>...</td>\n",
              "      <td>...</td>\n",
              "      <td>...</td>\n",
              "      <td>...</td>\n",
              "      <td>...</td>\n",
              "    </tr>\n",
              "    <tr>\n",
              "      <th>5105</th>\n",
              "      <td>27.496660</td>\n",
              "      <td>3.486644</td>\n",
              "      <td>85.572197</td>\n",
              "      <td>5.123629</td>\n",
              "      <td>322.793082</td>\n",
              "      <td>11.2</td>\n",
              "      <td>9</td>\n",
              "    </tr>\n",
              "    <tr>\n",
              "      <th>5106</th>\n",
              "      <td>16.443751</td>\n",
              "      <td>4.076211</td>\n",
              "      <td>74.694247</td>\n",
              "      <td>1.583031</td>\n",
              "      <td>8.085395</td>\n",
              "      <td>0.5</td>\n",
              "      <td>11</td>\n",
              "    </tr>\n",
              "    <tr>\n",
              "      <th>5107</th>\n",
              "      <td>30.306671</td>\n",
              "      <td>4.891453</td>\n",
              "      <td>84.929808</td>\n",
              "      <td>6.058653</td>\n",
              "      <td>296.437424</td>\n",
              "      <td>11.5</td>\n",
              "      <td>8</td>\n",
              "    </tr>\n",
              "    <tr>\n",
              "      <th>5108</th>\n",
              "      <td>33.293983</td>\n",
              "      <td>7.719567</td>\n",
              "      <td>38.725290</td>\n",
              "      <td>1.532883</td>\n",
              "      <td>13.002351</td>\n",
              "      <td>0.7</td>\n",
              "      <td>4</td>\n",
              "    </tr>\n",
              "    <tr>\n",
              "      <th>5109</th>\n",
              "      <td>29.686339</td>\n",
              "      <td>5.201331</td>\n",
              "      <td>81.032922</td>\n",
              "      <td>5.831685</td>\n",
              "      <td>280.672588</td>\n",
              "      <td>12.2</td>\n",
              "      <td>8</td>\n",
              "    </tr>\n",
              "  </tbody>\n",
              "</table>\n",
              "<p>5110 rows × 7 columns</p>\n",
              "</div>"
            ],
            "text/plain": [
              "      temp(cel)  mean_windspeed(km/hr)  ...  avg._no._rainyday  month_index\n",
              "0     30.249077               5.992444  ...                5.7            5\n",
              "1      9.323347               3.513469  ...                1.4            1\n",
              "2     28.505738               5.568657  ...               11.5            8\n",
              "3     20.321127               3.822299  ...                1.3            1\n",
              "4     30.835069               6.978292  ...                5.3            6\n",
              "...         ...                    ...  ...                ...          ...\n",
              "5105  27.496660               3.486644  ...               11.2            9\n",
              "5106  16.443751               4.076211  ...                0.5           11\n",
              "5107  30.306671               4.891453  ...               11.5            8\n",
              "5108  33.293983               7.719567  ...                0.7            4\n",
              "5109  29.686339               5.201331  ...               12.2            8\n",
              "\n",
              "[5110 rows x 7 columns]"
            ]
          },
          "metadata": {
            "tags": []
          },
          "execution_count": 6
        }
      ]
    },
    {
      "cell_type": "code",
      "metadata": {
        "id": "IGN0udLJj3U8",
        "colab": {
          "base_uri": "https://localhost:8080/"
        },
        "outputId": "e273f2d8-e3ed-4229-ab7e-373c3a96e6c0"
      },
      "source": [
        "y"
      ],
      "execution_count": 7,
      "outputs": [
        {
          "output_type": "execute_result",
          "data": {
            "text/plain": [
              "0            Purnea\n",
              "1          Motihari\n",
              "2       Muzaffarpur\n",
              "3            Raxaul\n",
              "4             patna\n",
              "           ...     \n",
              "5105         Purnea\n",
              "5106           Gaya\n",
              "5107    Muzaffarpur\n",
              "5108           Gaya\n",
              "5109         chapra\n",
              "Name: district, Length: 5110, dtype: object"
            ]
          },
          "metadata": {
            "tags": []
          },
          "execution_count": 7
        }
      ]
    },
    {
      "cell_type": "code",
      "metadata": {
        "id": "mAztVWRfjPc6",
        "colab": {
          "base_uri": "https://localhost:8080/"
        },
        "outputId": "460b76c7-3f7e-48fe-8d93-faaea818ec9e"
      },
      "source": [
        "\r\n",
        "lb = preprocessing.LabelEncoder()\r\n",
        "y=lb.fit_transform(y)\r\n",
        "y"
      ],
      "execution_count": 8,
      "outputs": [
        {
          "output_type": "execute_result",
          "data": {
            "text/plain": [
              "array([ 7,  5,  6, ...,  6,  4, 11])"
            ]
          },
          "metadata": {
            "tags": []
          },
          "execution_count": 8
        }
      ]
    },
    {
      "cell_type": "code",
      "metadata": {
        "id": "pxLLgJsfjp8m",
        "colab": {
          "base_uri": "https://localhost:8080/"
        },
        "outputId": "83e1cbea-5e5d-4b59-c81d-382fda5ee502"
      },
      "source": [
        "X = X.iloc[:,:].values\r\n",
        "X"
      ],
      "execution_count": 9,
      "outputs": [
        {
          "output_type": "execute_result",
          "data": {
            "text/plain": [
              "array([[ 30.24907705,   5.99244423,  72.82253867, ..., 126.15877078,\n",
              "          5.7       ,   5.        ],\n",
              "       [  9.32334665,   3.51346918,  81.62556327, ...,  12.88604363,\n",
              "          1.4       ,   1.        ],\n",
              "       [ 28.50573821,   5.56865708,  83.44975984, ..., 295.27699076,\n",
              "         11.5       ,   8.        ],\n",
              "       ...,\n",
              "       [ 30.3066709 ,   4.89145309,  84.92980773, ..., 296.43742441,\n",
              "         11.5       ,   8.        ],\n",
              "       [ 33.29398346,   7.71956682,  38.72529016, ...,  13.00235064,\n",
              "          0.7       ,   4.        ],\n",
              "       [ 29.68633939,   5.20133073,  81.03292216, ..., 280.67258794,\n",
              "         12.2       ,   8.        ]])"
            ]
          },
          "metadata": {
            "tags": []
          },
          "execution_count": 9
        }
      ]
    },
    {
      "cell_type": "code",
      "metadata": {
        "id": "zgEWC4Y7kNHP"
      },
      "source": [
        "  \r\n",
        "x_train, x_test, y_train, y_test= train_test_split(X, y, test_size= 0.25, random_state=0)"
      ],
      "execution_count": 10,
      "outputs": []
    },
    {
      "cell_type": "code",
      "metadata": {
        "id": "xe-qdECek9rK",
        "colab": {
          "base_uri": "https://localhost:8080/"
        },
        "outputId": "1e81c067-ce67-4e7f-f4e1-9b878fd6bce6"
      },
      "source": [
        "from sklearn.ensemble import RandomForestClassifier  \r\n",
        "classifier= RandomForestClassifier(n_estimators= 10, criterion=\"entropy\")  \r\n",
        "classifier.fit(x_train, y_train)\r\n"
      ],
      "execution_count": 11,
      "outputs": [
        {
          "output_type": "execute_result",
          "data": {
            "text/plain": [
              "RandomForestClassifier(bootstrap=True, ccp_alpha=0.0, class_weight=None,\n",
              "                       criterion='entropy', max_depth=None, max_features='auto',\n",
              "                       max_leaf_nodes=None, max_samples=None,\n",
              "                       min_impurity_decrease=0.0, min_impurity_split=None,\n",
              "                       min_samples_leaf=1, min_samples_split=2,\n",
              "                       min_weight_fraction_leaf=0.0, n_estimators=10,\n",
              "                       n_jobs=None, oob_score=False, random_state=None,\n",
              "                       verbose=0, warm_start=False)"
            ]
          },
          "metadata": {
            "tags": []
          },
          "execution_count": 11
        }
      ]
    },
    {
      "cell_type": "code",
      "metadata": {
        "id": "eBvFYn1xlEfl"
      },
      "source": [
        "y_pred= classifier.predict(x_test)  "
      ],
      "execution_count": 12,
      "outputs": []
    },
    {
      "cell_type": "code",
      "metadata": {
        "id": "zMnsjmIFlJSa",
        "colab": {
          "base_uri": "https://localhost:8080/"
        },
        "outputId": "cd7d16f7-8256-4b06-b3a7-df7f38c0595f"
      },
      "source": [
        "y_pred"
      ],
      "execution_count": 13,
      "outputs": [
        {
          "output_type": "execute_result",
          "data": {
            "text/plain": [
              "array([0, 7, 9, ..., 0, 2, 0])"
            ]
          },
          "metadata": {
            "tags": []
          },
          "execution_count": 13
        }
      ]
    },
    {
      "cell_type": "code",
      "metadata": {
        "id": "nHjh0bxylLY4",
        "colab": {
          "base_uri": "https://localhost:8080/"
        },
        "outputId": "da08fe5a-4e4f-4f96-c199-00d2a24b745f"
      },
      "source": [
        "y_test"
      ],
      "execution_count": 14,
      "outputs": [
        {
          "output_type": "execute_result",
          "data": {
            "text/plain": [
              "array([0, 7, 9, ..., 0, 2, 0])"
            ]
          },
          "metadata": {
            "tags": []
          },
          "execution_count": 14
        }
      ]
    },
    {
      "cell_type": "code",
      "metadata": {
        "id": "C-ix_ug6naA0",
        "colab": {
          "base_uri": "https://localhost:8080/"
        },
        "outputId": "9592a1a8-ff76-4764-ef3b-f6a7dec1f023"
      },
      "source": [
        "op = lb.inverse_transform(y_test)\r\n",
        "op"
      ],
      "execution_count": 15,
      "outputs": [
        {
          "output_type": "execute_result",
          "data": {
            "text/plain": [
              "array(['Bhagalpur', 'Purnea', 'Sabour', ..., 'Bhagalpur', 'Dehri',\n",
              "       'Bhagalpur'], dtype=object)"
            ]
          },
          "metadata": {
            "tags": []
          },
          "execution_count": 15
        }
      ]
    },
    {
      "cell_type": "code",
      "metadata": {
        "id": "oQdEw795lSHT"
      },
      "source": [
        "#Creating the Confusion matrix  \r\n",
        "from sklearn.metrics import confusion_matrix  \r\n",
        "cm= confusion_matrix(y_test, y_pred) "
      ],
      "execution_count": 16,
      "outputs": []
    },
    {
      "cell_type": "code",
      "metadata": {
        "id": "20AZchqOlalc",
        "colab": {
          "base_uri": "https://localhost:8080/"
        },
        "outputId": "df86a77d-28eb-4caf-a704-e64affc94009"
      },
      "source": [
        "cm"
      ],
      "execution_count": 17,
      "outputs": [
        {
          "output_type": "execute_result",
          "data": {
            "text/plain": [
              "array([[ 83,   0,   0,   0,   3,   0,   0,   0,   0,   0,   0,   0,   0,\n",
              "          2],\n",
              "       [  0,  80,   0,   0,   0,   0,   0,   0,   0,   0,   0,   0,   0,\n",
              "          0],\n",
              "       [  0,   0,  85,   0,   0,   0,   0,   0,   0,   0,   0,   0,   0,\n",
              "          0],\n",
              "       [  2,   0,   0,  93,   0,   0,   1,   2,   0,   0,   0,   0,   0,\n",
              "          3],\n",
              "       [  6,   0,   1,   0,  86,   0,   0,   0,   0,   0,   0,   0,   0,\n",
              "          0],\n",
              "       [  0,   1,   0,   0,   0,  98,   0,   0,   0,   0,   0,   1,   0,\n",
              "          0],\n",
              "       [  0,   0,   0,   0,   0,   0,  78,   2,   0,   0,   0,   1,   0,\n",
              "          0],\n",
              "       [  0,   0,   0,   1,   0,   0,   2,  80,   0,   0,   0,   0,   0,\n",
              "          0],\n",
              "       [  0,   0,   0,   0,   1,   0,   0,   0,  93,   0,   0,   0,   0,\n",
              "          0],\n",
              "       [  2,   0,   0,   0,   0,   0,   1,   0,   3,  95,   0,   0,   0,\n",
              "          0],\n",
              "       [  0,   0,   0,   0,   0,   0,   0,   0,   0,   0,  87,   0,   4,\n",
              "          0],\n",
              "       [  0,   0,   1,   0,   0,   0,   1,   0,   0,   0,   0,  82,   0,\n",
              "          0],\n",
              "       [  0,   0,   0,   1,   0,   0,   0,   1,   0,   0,   3,   0, 100,\n",
              "          0],\n",
              "       [  3,   0,   0,   0,   1,   0,   0,   0,   0,   0,   0,   0,   0,\n",
              "         88]])"
            ]
          },
          "metadata": {
            "tags": []
          },
          "execution_count": 17
        }
      ]
    },
    {
      "cell_type": "code",
      "metadata": {
        "id": "hAcfQX9klo9H"
      },
      "source": [
        "from sklearn.metrics import accuracy_score, confusion_matrix, classification_report\r\n",
        "# View accuracy score\r\n",
        "score = accuracy_score(y_test, y_pred)"
      ],
      "execution_count": 18,
      "outputs": []
    },
    {
      "cell_type": "code",
      "metadata": {
        "id": "2_MOZyhXnGyM",
        "colab": {
          "base_uri": "https://localhost:8080/"
        },
        "outputId": "47b84d9a-621d-4c9b-a8c4-7750dd2baa3b"
      },
      "source": [
        "score"
      ],
      "execution_count": 19,
      "outputs": [
        {
          "output_type": "execute_result",
          "data": {
            "text/plain": [
              "0.9608763693270735"
            ]
          },
          "metadata": {
            "tags": []
          },
          "execution_count": 19
        }
      ]
    },
    {
      "cell_type": "code",
      "metadata": {
        "id": "_yPwKZAmnIF1"
      },
      "source": [
        ""
      ],
      "execution_count": null,
      "outputs": []
    }
  ]
}